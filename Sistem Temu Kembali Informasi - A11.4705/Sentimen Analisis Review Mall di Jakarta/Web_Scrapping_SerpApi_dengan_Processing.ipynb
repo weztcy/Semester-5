{
  "cells": [
    {
      "cell_type": "markdown",
      "metadata": {
        "id": "i8zsf4RDL8qs"
      },
      "source": [
        "<h1><b>Web Scrapping Review Hotel dengan SerpAPI</b></h1>\n",
        "\n",
        "---\n",
        "\n",
        "\n",
        "\n",
        "\n"
      ]
    },
    {
      "cell_type": "markdown",
      "metadata": {
        "id": "ne2EgGs6Wko6"
      },
      "source": [
        "*   <h4><b>instal Modul Python Google Search Results<b></h4>"
      ]
    },
    {
      "cell_type": "code",
      "execution_count": 42,
      "metadata": {
        "colab": {
          "base_uri": "https://localhost:8080/"
        },
        "id": "kB3yGNIziq8x",
        "outputId": "f689bd57-ce78-45a1-b755-e381fdd512d2"
      },
      "outputs": [
        {
          "name": "stdout",
          "output_type": "stream",
          "text": [
            "Requirement already satisfied: google-search-results in c:\\users\\lenovo\\onedrive\\documents\\sentimen analisis\\sentiment-analysis-hotel-review\\venv\\lib\\site-packages (2.4.2)\n",
            "Requirement already satisfied: requests in c:\\users\\lenovo\\onedrive\\documents\\sentimen analisis\\sentiment-analysis-hotel-review\\venv\\lib\\site-packages (from google-search-results) (2.31.0)\n",
            "Requirement already satisfied: charset-normalizer<4,>=2 in c:\\users\\lenovo\\onedrive\\documents\\sentimen analisis\\sentiment-analysis-hotel-review\\venv\\lib\\site-packages (from requests->google-search-results) (3.3.2)\n",
            "Requirement already satisfied: idna<4,>=2.5 in c:\\users\\lenovo\\onedrive\\documents\\sentimen analisis\\sentiment-analysis-hotel-review\\venv\\lib\\site-packages (from requests->google-search-results) (3.6)\n",
            "Requirement already satisfied: urllib3<3,>=1.21.1 in c:\\users\\lenovo\\onedrive\\documents\\sentimen analisis\\sentiment-analysis-hotel-review\\venv\\lib\\site-packages (from requests->google-search-results) (2.1.0)\n",
            "Requirement already satisfied: certifi>=2017.4.17 in c:\\users\\lenovo\\onedrive\\documents\\sentimen analisis\\sentiment-analysis-hotel-review\\venv\\lib\\site-packages (from requests->google-search-results) (2023.11.17)\n",
            "Note: you may need to restart the kernel to use updated packages.\n"
          ]
        },
        {
          "name": "stderr",
          "output_type": "stream",
          "text": [
            "\n",
            "[notice] A new release of pip is available: 23.1.2 -> 23.3.2\n",
            "[notice] To update, run: python.exe -m pip install --upgrade pip\n"
          ]
        }
      ],
      "source": [
        "pip install google-search-results"
      ]
    },
    {
      "cell_type": "markdown",
      "metadata": {
        "id": "TOQPOBMmOzXU"
      },
      "source": [
        "*    <h4><b>Import Library</b></h4>"
      ]
    },
    {
      "cell_type": "code",
      "execution_count": 43,
      "metadata": {
        "id": "2b4dejbDGFZr"
      },
      "outputs": [],
      "source": [
        "from serpapi import GoogleSearch\n",
        "from urllib.parse import *"
      ]
    },
    {
      "cell_type": "markdown",
      "metadata": {
        "id": "mvjIUuSdk9Rc"
      },
      "source": [
        "*    <h4><b>Scrapping Local Results</b></h4>\n",
        "mengambil data 10 objek (hotel) yang memiliki ≥ 100 reviews"
      ]
    },
    {
      "cell_type": "code",
      "execution_count": 44,
      "metadata": {
        "colab": {
          "base_uri": "https://localhost:8080/"
        },
        "id": "bZK3GdP6UUNb",
        "outputId": "5faa33ab-280e-43e0-cde9-7fd84ac445a4"
      },
      "outputs": [],
      "source": [
        "params = {\n",
        "  \"engine\": \"google_maps\",\n",
        "  \"q\": \"mall\", # objek yang dicari\n",
        "  \"ll\": \"@-6.2552348,106.8106399,14.84z\", #koordinat tempat sekitar\n",
        "  \"type\": \"search\",\n",
        "  \"api_key\": \"ea7fc95320e6a3cb7cc5de797549d6be65c5a99b0e4beb4986b4283dec57e863\"\n",
        "}\n",
        "\n",
        "search = GoogleSearch(params)\n",
        "\n",
        "lIdx = 0 # indeks yang ditampilkan dari data\n",
        "lSum = 7 # Batas jumlah data yang ditampilkan\n",
        "local_results = []\n",
        "\n",
        "while lIdx  <= lSum:\n",
        "  results = search.get_dict()\n",
        "\n",
        "  for Result in results[\"local_results\"]:\n",
        "    lIdx += 1\n",
        "\n",
        "    if lIdx <= lSum:\n",
        "\n",
        "      #seleksi data (jangan ambil data jika jumlah review < 200 )\n",
        "      if Result[\"reviews\"] < 200:\n",
        "        lIdx += 1\n",
        "        continue\n",
        "        \n",
        "      # Append data sesuai dengan batas jumlah yang sudah ditentukan\n",
        "      local_results.append({'Nama': Result[\"title\"],\n",
        "                           'data_id': Result[\"data_id\"],\n",
        "                           'total_reviews': Result[\"reviews\"]});\n",
        "\n",
        "  #menghilangkan pagination pada web, sehingga data yang terambil bisa banyak\n",
        "  if \"next\" in results.get(\"serpapi_pagination\", {}):\n",
        "    # Akan mengubah parameter dari 'GoogleSearch()' dengan isi parameter dari halaman selanjutnya\n",
        "    search.params_dict.update(dict(parse_qsl(urlsplit(results.get(\"serpapi_pagination\").get(\"next\")).query)))\n",
        "\n",
        "  else:\n",
        "    break\n",
        "\n"
      ]
    },
    {
      "cell_type": "code",
      "execution_count": 45,
      "metadata": {
        "colab": {
          "base_uri": "https://localhost:8080/"
        },
        "id": "7CMnvxN_4a1Q",
        "outputId": "6a50cdb6-8572-49b2-a467-fb334c0d3a49"
      },
      "outputs": [
        {
          "name": "stdout",
          "output_type": "stream",
          "text": [
            "{'Nama': 'Blok M Square', 'data_id': '0x2e69f1ebfd6daa4d:0x8f10b22d03d7c9db', 'total_reviews': 39378}\n",
            "{'Nama': 'Pacific Place Mall', 'data_id': '0x2e69f151104aee2b:0xc4a608b34b5f03cc', 'total_reviews': 47756}\n",
            "{'Nama': 'Pondok Indah Mall 1', 'data_id': '0x2e69f1a5f4fbee47:0x682837113c4ea854', 'total_reviews': 79356}\n",
            "{'Nama': 'Senayan City', 'data_id': '0x2e69f1485e476a65:0x300c043104acc004', 'total_reviews': 58095}\n",
            "{'Nama': 'The Darmawangsa Square', 'data_id': '0x2e69f1716a1264ff:0x8f2d31415c49a9b8', 'total_reviews': 3211}\n",
            "{'Nama': 'Melawai Plaza', 'data_id': '0x2e69f16efaa6f6db:0x1cd429e472a9168', 'total_reviews': 2223}\n",
            "{'Nama': 'Mal Ambasador', 'data_id': '0x2e69f3fbe9c12797:0xffae3870f7ae2fd', 'total_reviews': 36157}\n"
          ]
        }
      ],
      "source": [
        "for LR in local_results:\n",
        "  print(LR)"
      ]
    },
    {
      "cell_type": "markdown",
      "metadata": {
        "id": "yczxDXC59bmC"
      },
      "source": [
        "*   <h4><b>Scrapping Reviews</b></h4>\n",
        "Mengambil 100 data dari masing-masing objek (hotel) sesuai dengan jumlah index yang diinginkan"
      ]
    },
    {
      "cell_type": "code",
      "execution_count": 46,
      "metadata": {
        "colab": {
          "base_uri": "https://localhost:8080/"
        },
        "id": "_YI4IC7W8nVI",
        "outputId": "3735a414-9861-45da-b0c3-d7ba09265961"
      },
      "outputs": [],
      "source": [
        "# data = {'Hotel_name':[],\n",
        "#         'name':[],\n",
        "#         'rating':[],\n",
        "#         'review':[]}\n",
        "\n",
        "# for LR in local_results:\n",
        "  \n",
        "#   params = {\n",
        "#     \"engine\": \"google_maps_reviews\",\n",
        "#     \"data_id\": \"\",\n",
        "#     \"api_key\": \"ea7fc95320e6a3cb7cc5de797549d6be65c5a99b0e4beb4986b4283dec57e863\"\n",
        "#   }\n",
        "  \n",
        "#   params[\"data_id\"] = LR['data_id']\n",
        "\n",
        "#   search = GoogleSearch(params)\n",
        "\n",
        "#   lIdx = 0 # Angka indeks dari data\n",
        "#   lSum = 30 # Batas jumlah data yang ditampilkan\n",
        "\n",
        "#   while lIdx <= lSum:\n",
        "#     results = search.get_dict()\n",
        "\n",
        "#     for Result in results[\"reviews\"]:\n",
        "#       lIdx += 1\n",
        "\n",
        "#       if lIdx <= lSum:\n",
        "#         # Append data sesuai dengan batas jumlah yang sudah ditentukan\n",
        "#         data['Hotel_name'].append(LR['Nama']);\n",
        "#         data['name'].append(Result[\"user\"][\"name\"]);\n",
        "#         data['rating'].append(Result[\"rating\"]);\n",
        "#         data['review'].append(Result[\"snippet\"]);\n",
        "\n",
        "#     #menghilangkan pagination pada web, sehingga data yang terambil bisa banyak\n",
        "#     if \"next\" in results.get(\"serpapi_pagination\", {}):\n",
        "#       # Akan mengubah parameter dari 'GoogleSearch()' dengan isi parameter dari halaman selanjutnya\n",
        "#       search.params_dict.update(dict(parse_qsl(urlsplit(results.get(\"serpapi_pagination\").get(\"next\")).query)))\n",
        "\n",
        "#     else:\n",
        "#       break\n",
        "    \n",
        "# review_original = data['review']\n",
        "\n",
        "data = {'Mall_name': [], 'name': [], 'rating': [], 'review': []}\n",
        "\n",
        "for LR in local_results:\n",
        "    params = {\n",
        "        \"engine\": \"google_maps_reviews\",\n",
        "        \"data_id\": \"\",\n",
        "        \"api_key\": \"ea7fc95320e6a3cb7cc5de797549d6be65c5a99b0e4beb4986b4283dec57e863\"\n",
        "    }\n",
        "\n",
        "    params[\"data_id\"] = LR['data_id']\n",
        "\n",
        "    search = GoogleSearch(params)\n",
        "\n",
        "    lIdx = 0  # Angka indeks dari data\n",
        "    lSum = 30  # Batas jumlah data yang ditampilkan\n",
        "\n",
        "    while lIdx <= lSum:\n",
        "        results = search.get_dict()\n",
        "\n",
        "        for Result in results.get(\"reviews\", []):\n",
        "            lIdx += 1\n",
        "\n",
        "            if lIdx <= lSum:\n",
        "                # Append data sesuai dengan batas jumlah yang sudah ditentukan\n",
        "                data['Mall_name'].append(LR['Nama'])\n",
        "                data['name'].append(Result[\"user\"].get(\"name\", \"\"))\n",
        "                data['rating'].append(Result.get(\"rating\", None))\n",
        "                data['review'].append(Result.get(\"snippet\", \"\"))\n",
        "\n",
        "        # menghilangkan pagination pada web, sehingga data yang terambil bisa banyak\n",
        "        if \"next\" in results.get(\"serpapi_pagination\", {}):\n",
        "            # Akan mengubah parameter dari 'GoogleSearch()' dengan isi parameter dari halaman selanjutnya\n",
        "            search.params_dict.update(dict(parse_qsl(urlsplit(results.get(\"serpapi_pagination\").get(\"next\")).query)))\n",
        "        else:\n",
        "            break\n",
        "\n",
        "review_original = data['review']"
      ]
    },
    {
      "cell_type": "markdown",
      "metadata": {
        "id": "DIfAJ37NAbmA"
      },
      "source": [
        "*   <h4><b>Export Data Scrapping</b></h4>"
      ]
    },
    {
      "cell_type": "code",
      "execution_count": 47,
      "metadata": {
        "id": "TsQ8NE8bHz_T"
      },
      "outputs": [],
      "source": [
        "import pandas as pd\n",
        "dfScrap = pd.DataFrame(data)\n",
        "dfScrap.to_csv('File_CSV/reviewMallJakarta.csv', index = False)"
      ]
    },
    {
      "cell_type": "code",
      "execution_count": 48,
      "metadata": {
        "colab": {
          "base_uri": "https://localhost:8080/",
          "height": 424
        },
        "id": "n4aOrGAUIAED",
        "outputId": "01f2fec3-2db3-40fe-eaff-448f251a2d7d"
      },
      "outputs": [
        {
          "data": {
            "text/html": [
              "<div>\n",
              "<style scoped>\n",
              "    .dataframe tbody tr th:only-of-type {\n",
              "        vertical-align: middle;\n",
              "    }\n",
              "\n",
              "    .dataframe tbody tr th {\n",
              "        vertical-align: top;\n",
              "    }\n",
              "\n",
              "    .dataframe thead th {\n",
              "        text-align: right;\n",
              "    }\n",
              "</style>\n",
              "<table border=\"1\" class=\"dataframe\">\n",
              "  <thead>\n",
              "    <tr style=\"text-align: right;\">\n",
              "      <th></th>\n",
              "      <th>Mall_name</th>\n",
              "      <th>name</th>\n",
              "      <th>rating</th>\n",
              "      <th>review</th>\n",
              "    </tr>\n",
              "  </thead>\n",
              "  <tbody>\n",
              "    <tr>\n",
              "      <th>0</th>\n",
              "      <td>Blok M Square</td>\n",
              "      <td>Lav</td>\n",
              "      <td>5.0</td>\n",
              "      <td>I spent almost the entire day wandering throug...</td>\n",
              "    </tr>\n",
              "    <tr>\n",
              "      <th>1</th>\n",
              "      <td>Blok M Square</td>\n",
              "      <td>Jeremy Mseitif</td>\n",
              "      <td>3.0</td>\n",
              "      <td>Nice Mall with few old shops surrounding it. M...</td>\n",
              "    </tr>\n",
              "    <tr>\n",
              "      <th>2</th>\n",
              "      <td>Blok M Square</td>\n",
              "      <td>Agnes Szegedi</td>\n",
              "      <td>5.0</td>\n",
              "      <td>If you want the full Indonesian experience vis...</td>\n",
              "    </tr>\n",
              "    <tr>\n",
              "      <th>3</th>\n",
              "      <td>Blok M Square</td>\n",
              "      <td>La Umang</td>\n",
              "      <td>4.0</td>\n",
              "      <td>The mall is fine, you can find a clothes or ju...</td>\n",
              "    </tr>\n",
              "    <tr>\n",
              "      <th>4</th>\n",
              "      <td>Blok M Square</td>\n",
              "      <td>Dimas Jayasrana</td>\n",
              "      <td>4.0</td>\n",
              "      <td>This is the place if you want to have a sum up...</td>\n",
              "    </tr>\n",
              "    <tr>\n",
              "      <th>...</th>\n",
              "      <td>...</td>\n",
              "      <td>...</td>\n",
              "      <td>...</td>\n",
              "      <td>...</td>\n",
              "    </tr>\n",
              "    <tr>\n",
              "      <th>205</th>\n",
              "      <td>Mal Ambasador</td>\n",
              "      <td>Wibisana Jusuf</td>\n",
              "      <td>4.0</td>\n",
              "      <td>Looking for gadgets, cameras, outfits or just ...</td>\n",
              "    </tr>\n",
              "    <tr>\n",
              "      <th>206</th>\n",
              "      <td>Mal Ambasador</td>\n",
              "      <td>Bella Hasibuan</td>\n",
              "      <td>4.0</td>\n",
              "      <td>Old mall but stil comfortable</td>\n",
              "    </tr>\n",
              "    <tr>\n",
              "      <th>207</th>\n",
              "      <td>Mal Ambasador</td>\n",
              "      <td>abdrcao</td>\n",
              "      <td>5.0</td>\n",
              "      <td>If you wanna find cool gadgets then tou find t...</td>\n",
              "    </tr>\n",
              "    <tr>\n",
              "      <th>208</th>\n",
              "      <td>Mal Ambasador</td>\n",
              "      <td>Asim Gt</td>\n",
              "      <td>4.0</td>\n",
              "      <td>This place is considered one of the oldest mar...</td>\n",
              "    </tr>\n",
              "    <tr>\n",
              "      <th>209</th>\n",
              "      <td>Mal Ambasador</td>\n",
              "      <td>Florence Natalia</td>\n",
              "      <td>5.0</td>\n",
              "      <td>Still great for window shopping &amp; affordable. ...</td>\n",
              "    </tr>\n",
              "  </tbody>\n",
              "</table>\n",
              "<p>210 rows × 4 columns</p>\n",
              "</div>"
            ],
            "text/plain": [
              "         Mall_name              name  rating  \\\n",
              "0    Blok M Square               Lav     5.0   \n",
              "1    Blok M Square    Jeremy Mseitif     3.0   \n",
              "2    Blok M Square     Agnes Szegedi     5.0   \n",
              "3    Blok M Square          La Umang     4.0   \n",
              "4    Blok M Square   Dimas Jayasrana     4.0   \n",
              "..             ...               ...     ...   \n",
              "205  Mal Ambasador    Wibisana Jusuf     4.0   \n",
              "206  Mal Ambasador    Bella Hasibuan     4.0   \n",
              "207  Mal Ambasador           abdrcao     5.0   \n",
              "208  Mal Ambasador           Asim Gt     4.0   \n",
              "209  Mal Ambasador  Florence Natalia     5.0   \n",
              "\n",
              "                                                review  \n",
              "0    I spent almost the entire day wandering throug...  \n",
              "1    Nice Mall with few old shops surrounding it. M...  \n",
              "2    If you want the full Indonesian experience vis...  \n",
              "3    The mall is fine, you can find a clothes or ju...  \n",
              "4    This is the place if you want to have a sum up...  \n",
              "..                                                 ...  \n",
              "205  Looking for gadgets, cameras, outfits or just ...  \n",
              "206                      Old mall but stil comfortable  \n",
              "207  If you wanna find cool gadgets then tou find t...  \n",
              "208  This place is considered one of the oldest mar...  \n",
              "209  Still great for window shopping & affordable. ...  \n",
              "\n",
              "[210 rows x 4 columns]"
            ]
          },
          "execution_count": 48,
          "metadata": {},
          "output_type": "execute_result"
        }
      ],
      "source": [
        "dfScrap"
      ]
    },
    {
      "cell_type": "markdown",
      "metadata": {
        "id": "Uom8wL00N7hr"
      },
      "source": [
        "<b>2. Tahap Case Folding</b>\n"
      ]
    },
    {
      "cell_type": "markdown",
      "metadata": {
        "id": "8BNUPZkGOMia"
      },
      "source": [
        "*   <h4><b>Import Library</b></h4>"
      ]
    },
    {
      "cell_type": "code",
      "execution_count": 49,
      "metadata": {
        "id": "RXqMzQPsOHP5"
      },
      "outputs": [],
      "source": [
        "import re\n",
        "import string"
      ]
    },
    {
      "cell_type": "markdown",
      "metadata": {
        "id": "N-dpSH9yOWhO"
      },
      "source": [
        "*   <h4><b>Proses Listing</b></h4>"
      ]
    },
    {
      "cell_type": "code",
      "execution_count": 50,
      "metadata": {
        "id": "TgdzbqIeOUwc"
      },
      "outputs": [],
      "source": [
        "review_clean = []\n",
        "\n",
        "for review in review_original:\n",
        "    # Remove Unicode\n",
        "    review_test = re.sub(r'[^\\x00-\\x7F]+', ' ', review)\n",
        "    # Remove Mentions\n",
        "    review_test = re.sub(r'@\\w+', '', review_test)\n",
        "    # Lowercase the document\n",
        "    review_test = review_test.lower()\n",
        "    # Remove punctuations\n",
        "    review_test = re.sub(r'[%s]' % re.escape(string.punctuation), ' ', review_test)\n",
        "    # Remove the numbers\n",
        "    review_test = re.sub(r'[0-9]', '', review_test)\n",
        "    # Remove the doubled space\n",
        "    review_test = re.sub(r'\\s{2,}', ' ', review_test)\n",
        "    \n",
        "    review_clean.append(review_test)"
      ]
    },
    {
      "cell_type": "markdown",
      "metadata": {
        "id": "9YfSCwFkayw0"
      },
      "source": [
        "<b>3. Tahap Tokenizing</b>\n"
      ]
    },
    {
      "cell_type": "markdown",
      "metadata": {
        "id": "HWNsxQcna7zW"
      },
      "source": [
        "*   <h4><b>Import Library</b></h4>"
      ]
    },
    {
      "cell_type": "code",
      "execution_count": 51,
      "metadata": {
        "colab": {
          "base_uri": "https://localhost:8080/"
        },
        "id": "p-K5fP0zbJN-",
        "outputId": "8ce03d00-7b44-497c-a25d-bc39df24cec4"
      },
      "outputs": [
        {
          "name": "stderr",
          "output_type": "stream",
          "text": [
            "[nltk_data] Downloading package punkt to\n",
            "[nltk_data]     C:\\Users\\LENOVO\\AppData\\Roaming\\nltk_data...\n",
            "[nltk_data]   Package punkt is already up-to-date!\n"
          ]
        }
      ],
      "source": [
        "import nltk\n",
        "nltk.download('punkt')\n",
        "from nltk.tokenize import sent_tokenize, word_tokenize "
      ]
    },
    {
      "cell_type": "markdown",
      "metadata": {
        "id": "bJakcntXbUlT"
      },
      "source": [
        "*   <h4><b>Proses Listing</b></h4>"
      ]
    },
    {
      "cell_type": "code",
      "execution_count": 52,
      "metadata": {
        "id": "uM9bYvukbRGO"
      },
      "outputs": [],
      "source": [
        "review_tokenized = []\n",
        "\n",
        "for review in review_clean:\n",
        "  review_tokenized.append(word_tokenize(review))"
      ]
    },
    {
      "cell_type": "markdown",
      "metadata": {
        "id": "0Ht-_wEDc2Pi"
      },
      "source": [
        "<b>4. Tahap Filtering (Stopword Removal)</b>\n"
      ]
    },
    {
      "cell_type": "markdown",
      "metadata": {
        "id": "1-qgHrUJc_-j"
      },
      "source": [
        "*   <h4><b>Import Library</b></h4>"
      ]
    },
    {
      "cell_type": "code",
      "execution_count": 53,
      "metadata": {
        "colab": {
          "base_uri": "https://localhost:8080/"
        },
        "id": "ldjxVezDbbUn",
        "outputId": "168c348b-48f7-40fd-96e1-28ae092010dd"
      },
      "outputs": [
        {
          "name": "stderr",
          "output_type": "stream",
          "text": [
            "[nltk_data] Downloading package stopwords to\n",
            "[nltk_data]     C:\\Users\\LENOVO\\AppData\\Roaming\\nltk_data...\n",
            "[nltk_data]   Package stopwords is already up-to-date!\n"
          ]
        },
        {
          "data": {
            "text/plain": [
              "True"
            ]
          },
          "execution_count": 53,
          "metadata": {},
          "output_type": "execute_result"
        }
      ],
      "source": [
        "from nltk.corpus import stopwords\n",
        "nltk.download('stopwords')"
      ]
    },
    {
      "cell_type": "markdown",
      "metadata": {
        "id": "p5sUaK3adG39"
      },
      "source": [
        "*   <h4><b>Proses Listing</b></h4>"
      ]
    },
    {
      "cell_type": "code",
      "execution_count": 54,
      "metadata": {
        "id": "1FOfVVZYdEzV"
      },
      "outputs": [],
      "source": [
        "review_filtered = []\n",
        "listStopword =  set(stopwords.words('english'))\n",
        "\n",
        "for review in review_tokenized:\n",
        "  \n",
        "  review_each_filtered = []\n",
        "  \n",
        "  for r in review:\n",
        "    if r not in listStopword:\n",
        "        review_each_filtered.append(r)\n",
        "        \n",
        "  review_filtered.append(review_each_filtered)"
      ]
    },
    {
      "cell_type": "markdown",
      "metadata": {
        "id": "fA_2CqbrdZRs"
      },
      "source": [
        "<b>5. Tahap Stemming</b>\n",
        "\n",
        "menggunakan algoritma <b>SnowballStemmer</b>\n"
      ]
    },
    {
      "cell_type": "code",
      "execution_count": 55,
      "metadata": {
        "id": "wfNboaerdYOd"
      },
      "outputs": [],
      "source": [
        "from nltk.stem import SnowballStemmer\n",
        "stemmer = SnowballStemmer(\"english\")\n",
        "\n",
        "review_stemmed = []\n",
        "    \n",
        "for review in review_filtered:\n",
        "  \n",
        "  review_each_stemmed = []\n",
        "  \n",
        "  for r in review:\n",
        "    review_each_stemmed.append(stemmer.stem(r))\n",
        "        \n",
        "  review_stemmed.append(review_each_stemmed)"
      ]
    },
    {
      "cell_type": "markdown",
      "metadata": {
        "id": "ChPcJeJuemvn"
      },
      "source": [
        "<b>6. Export Hasil ke CSV</b>"
      ]
    },
    {
      "cell_type": "markdown",
      "metadata": {
        "id": "XjMI0_3Ze14z"
      },
      "source": [
        "*   <h4><b>Import Library</b></h4>"
      ]
    },
    {
      "cell_type": "code",
      "execution_count": 56,
      "metadata": {
        "id": "r8_3jigvey35"
      },
      "outputs": [],
      "source": [
        "import pandas as pd"
      ]
    },
    {
      "cell_type": "markdown",
      "metadata": {
        "id": "OtqdL1nTe_g7"
      },
      "source": [
        "*   <h4><b>Proses Listing</b></h4>"
      ]
    },
    {
      "cell_type": "code",
      "execution_count": 57,
      "metadata": {
        "id": "kRW6Ud3Se-10"
      },
      "outputs": [],
      "source": [
        "data_preprocessed = data\n",
        "data_preprocessed['review'] = review_stemmed"
      ]
    },
    {
      "cell_type": "code",
      "execution_count": 58,
      "metadata": {
        "id": "ZXjhjqWsfLT_"
      },
      "outputs": [],
      "source": [
        "df = pd.DataFrame(data_preprocessed)"
      ]
    },
    {
      "cell_type": "code",
      "execution_count": 59,
      "metadata": {
        "colab": {
          "base_uri": "https://localhost:8080/",
          "height": 424
        },
        "id": "Nn7AniGAfOg0",
        "outputId": "b6162d6c-6c09-4015-9b68-17d015d08596"
      },
      "outputs": [
        {
          "data": {
            "text/html": [
              "<div>\n",
              "<style scoped>\n",
              "    .dataframe tbody tr th:only-of-type {\n",
              "        vertical-align: middle;\n",
              "    }\n",
              "\n",
              "    .dataframe tbody tr th {\n",
              "        vertical-align: top;\n",
              "    }\n",
              "\n",
              "    .dataframe thead th {\n",
              "        text-align: right;\n",
              "    }\n",
              "</style>\n",
              "<table border=\"1\" class=\"dataframe\">\n",
              "  <thead>\n",
              "    <tr style=\"text-align: right;\">\n",
              "      <th></th>\n",
              "      <th>Mall_name</th>\n",
              "      <th>name</th>\n",
              "      <th>rating</th>\n",
              "      <th>review</th>\n",
              "    </tr>\n",
              "  </thead>\n",
              "  <tbody>\n",
              "    <tr>\n",
              "      <th>0</th>\n",
              "      <td>Blok M Square</td>\n",
              "      <td>Lav</td>\n",
              "      <td>5.0</td>\n",
              "      <td>[spent, almost, entir, day, wander, differ, le...</td>\n",
              "    </tr>\n",
              "    <tr>\n",
              "      <th>1</th>\n",
              "      <td>Blok M Square</td>\n",
              "      <td>Jeremy Mseitif</td>\n",
              "      <td>3.0</td>\n",
              "      <td>[nice, mall, old, shop, surround, import, top,...</td>\n",
              "    </tr>\n",
              "    <tr>\n",
              "      <th>2</th>\n",
              "      <td>Blok M Square</td>\n",
              "      <td>Agnes Szegedi</td>\n",
              "      <td>5.0</td>\n",
              "      <td>[want, full, indonesian, experi, visit, friday...</td>\n",
              "    </tr>\n",
              "    <tr>\n",
              "      <th>3</th>\n",
              "      <td>Blok M Square</td>\n",
              "      <td>La Umang</td>\n",
              "      <td>4.0</td>\n",
              "      <td>[mall, fine, find, cloth, food, food, court, b...</td>\n",
              "    </tr>\n",
              "    <tr>\n",
              "      <th>4</th>\n",
              "      <td>Blok M Square</td>\n",
              "      <td>Dimas Jayasrana</td>\n",
              "      <td>4.0</td>\n",
              "      <td>[place, want, sum, jakarta, youngster, hype, s...</td>\n",
              "    </tr>\n",
              "    <tr>\n",
              "      <th>...</th>\n",
              "      <td>...</td>\n",
              "      <td>...</td>\n",
              "      <td>...</td>\n",
              "      <td>...</td>\n",
              "    </tr>\n",
              "    <tr>\n",
              "      <th>205</th>\n",
              "      <td>Mal Ambasador</td>\n",
              "      <td>Wibisana Jusuf</td>\n",
              "      <td>4.0</td>\n",
              "      <td>[look, gadget, camera, outfit, plain, daili, n...</td>\n",
              "    </tr>\n",
              "    <tr>\n",
              "      <th>206</th>\n",
              "      <td>Mal Ambasador</td>\n",
              "      <td>Bella Hasibuan</td>\n",
              "      <td>4.0</td>\n",
              "      <td>[old, mall, stil, comfort]</td>\n",
              "    </tr>\n",
              "    <tr>\n",
              "      <th>207</th>\n",
              "      <td>Mal Ambasador</td>\n",
              "      <td>abdrcao</td>\n",
              "      <td>5.0</td>\n",
              "      <td>[wan, na, find, cool, gadget, tou, find, right...</td>\n",
              "    </tr>\n",
              "    <tr>\n",
              "      <th>208</th>\n",
              "      <td>Mal Ambasador</td>\n",
              "      <td>Asim Gt</td>\n",
              "      <td>4.0</td>\n",
              "      <td>[place, consid, one, oldest, market, visit, ar...</td>\n",
              "    </tr>\n",
              "    <tr>\n",
              "      <th>209</th>\n",
              "      <td>Mal Ambasador</td>\n",
              "      <td>Florence Natalia</td>\n",
              "      <td>5.0</td>\n",
              "      <td>[still, great, window, shop, afford, food, cou...</td>\n",
              "    </tr>\n",
              "  </tbody>\n",
              "</table>\n",
              "<p>210 rows × 4 columns</p>\n",
              "</div>"
            ],
            "text/plain": [
              "         Mall_name              name  rating  \\\n",
              "0    Blok M Square               Lav     5.0   \n",
              "1    Blok M Square    Jeremy Mseitif     3.0   \n",
              "2    Blok M Square     Agnes Szegedi     5.0   \n",
              "3    Blok M Square          La Umang     4.0   \n",
              "4    Blok M Square   Dimas Jayasrana     4.0   \n",
              "..             ...               ...     ...   \n",
              "205  Mal Ambasador    Wibisana Jusuf     4.0   \n",
              "206  Mal Ambasador    Bella Hasibuan     4.0   \n",
              "207  Mal Ambasador           abdrcao     5.0   \n",
              "208  Mal Ambasador           Asim Gt     4.0   \n",
              "209  Mal Ambasador  Florence Natalia     5.0   \n",
              "\n",
              "                                                review  \n",
              "0    [spent, almost, entir, day, wander, differ, le...  \n",
              "1    [nice, mall, old, shop, surround, import, top,...  \n",
              "2    [want, full, indonesian, experi, visit, friday...  \n",
              "3    [mall, fine, find, cloth, food, food, court, b...  \n",
              "4    [place, want, sum, jakarta, youngster, hype, s...  \n",
              "..                                                 ...  \n",
              "205  [look, gadget, camera, outfit, plain, daili, n...  \n",
              "206                         [old, mall, stil, comfort]  \n",
              "207  [wan, na, find, cool, gadget, tou, find, right...  \n",
              "208  [place, consid, one, oldest, market, visit, ar...  \n",
              "209  [still, great, window, shop, afford, food, cou...  \n",
              "\n",
              "[210 rows x 4 columns]"
            ]
          },
          "execution_count": 59,
          "metadata": {},
          "output_type": "execute_result"
        }
      ],
      "source": [
        "df"
      ]
    },
    {
      "cell_type": "code",
      "execution_count": 60,
      "metadata": {
        "id": "M_EqKHH0frFG"
      },
      "outputs": [],
      "source": [
        "df.to_csv('File_CSV/reviewMallJakarta_setelah_preprocessing.csv', index=False)"
      ]
    }
  ],
  "metadata": {
    "colab": {
      "collapsed_sections": [],
      "provenance": []
    },
    "kernelspec": {
      "display_name": "Python 3.10.5 64-bit",
      "language": "python",
      "name": "python3"
    },
    "language_info": {
      "name": "python",
      "version": "3.10.5"
    },
    "vscode": {
      "interpreter": {
        "hash": "b6fc3a16ecd2965cfae832a46d720a11ad0636ce06d12ed3be63cd7c163579c1"
      }
    }
  },
  "nbformat": 4,
  "nbformat_minor": 0
}
