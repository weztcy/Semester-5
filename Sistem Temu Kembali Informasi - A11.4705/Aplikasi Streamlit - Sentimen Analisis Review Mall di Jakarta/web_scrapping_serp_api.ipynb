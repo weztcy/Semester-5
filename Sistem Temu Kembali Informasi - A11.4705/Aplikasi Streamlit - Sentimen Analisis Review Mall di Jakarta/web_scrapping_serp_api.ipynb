{
  "cells": [
    {
      "cell_type": "markdown",
      "metadata": {
        "id": "i8zsf4RDL8qs"
      },
      "source": [
        "<h1><b>Web Scrapping Review Hotel dengan SerpAPI</b></h1>\n",
        "\n",
        "---\n",
        "\n",
        "\n",
        "\n",
        "\n"
      ]
    },
    {
      "cell_type": "markdown",
      "metadata": {
        "id": "ne2EgGs6Wko6"
      },
      "source": [
        "*   <h4><b>instal Modul Python Google Search Results<b></h4>"
      ]
    },
    {
      "cell_type": "code",
      "execution_count": 94,
      "metadata": {
        "colab": {
          "base_uri": "https://localhost:8080/"
        },
        "id": "kB3yGNIziq8x",
        "outputId": "f689bd57-ce78-45a1-b755-e381fdd512d2"
      },
      "outputs": [
        {
          "name": "stdout",
          "output_type": "stream",
          "text": [
            "Looking in indexes: https://pypi.org/simple, https://us-python.pkg.dev/colab-wheels/public/simple/\n",
            "Requirement already satisfied: google-search-results in /usr/local/lib/python3.7/dist-packages (2.4.1)\n",
            "Requirement already satisfied: requests in /usr/local/lib/python3.7/dist-packages (from google-search-results) (2.23.0)\n",
            "Requirement already satisfied: chardet<4,>=3.0.2 in /usr/local/lib/python3.7/dist-packages (from requests->google-search-results) (3.0.4)\n",
            "Requirement already satisfied: idna<3,>=2.5 in /usr/local/lib/python3.7/dist-packages (from requests->google-search-results) (2.10)\n",
            "Requirement already satisfied: urllib3!=1.25.0,!=1.25.1,<1.26,>=1.21.1 in /usr/local/lib/python3.7/dist-packages (from requests->google-search-results) (1.24.3)\n",
            "Requirement already satisfied: certifi>=2017.4.17 in /usr/local/lib/python3.7/dist-packages (from requests->google-search-results) (2022.9.24)\n"
          ]
        }
      ],
      "source": [
        "pip install google-search-results"
      ]
    },
    {
      "cell_type": "markdown",
      "metadata": {
        "id": "TOQPOBMmOzXU"
      },
      "source": [
        "*    <h4><b>Import Library</b></h4>"
      ]
    },
    {
      "cell_type": "code",
      "execution_count": null,
      "metadata": {
        "id": "2b4dejbDGFZr"
      },
      "outputs": [],
      "source": [
        "from serpapi import GoogleSearch\n",
        "from urllib.parse import *"
      ]
    },
    {
      "cell_type": "markdown",
      "metadata": {
        "id": "mvjIUuSdk9Rc"
      },
      "source": [
        "*    <h4><b>Scrapping Local Results</b></h4>\n",
        "mengambil data 10 objek (hotel) yang memiliki ≥ 100 reviews"
      ]
    },
    {
      "cell_type": "code",
      "execution_count": 106,
      "metadata": {
        "colab": {
          "base_uri": "https://localhost:8080/"
        },
        "id": "bZK3GdP6UUNb",
        "outputId": "5faa33ab-280e-43e0-cde9-7fd84ac445a4"
      },
      "outputs": [
        {
          "name": "stdout",
          "output_type": "stream",
          "text": [
            "https://serpapi.com/search\n"
          ]
        }
      ],
      "source": [
        "params = {\n",
        "  \"engine\": \"google_maps\",\n",
        "  \"q\": \"hotel\", # objek yang dicari\n",
        "  \"ll\": \"@-6.2552348,106.8106399,14.84z\", #koordinat tempat sekitar\n",
        "  \"type\": \"search\",\n",
        "  \"api_key\": \"ea7fc95320e6a3cb7cc5de797549d6be65c5a99b0e4beb4986b4283dec57e863\"\n",
        "}\n",
        "\n",
        "search = GoogleSearch(params)\n",
        "\n",
        "lIdx = 0\n",
        "lSum = 7\n",
        "local_results = []\n",
        "\n",
        "while lIdx  <= lSum:\n",
        "  results = search.get_dict()\n",
        "\n",
        "  for Result in results[\"local_results\"]:\n",
        "    lIdx += 1\n",
        "\n",
        "    if lIdx <= lSum:\n",
        "      if Result[\"reviews\"] < 200:\n",
        "        lIdx += 1\n",
        "        continue\n",
        "        local_results.append({'Nama': Result[\"title\"],\n",
        "                           'data_id': Result[\"data_id\"],\n",
        "                           'total_reviews': Result[\"reviews\"]});\n",
        "  \n",
        "  if \"next\" in results.get(\"serpapi_pagination\", {}):\n",
        "    search.params_dict.update(dict(parse_qsl(urlsplit(results.get(\"serpapi_pagination\").get(\"next\")).query)))\n",
        "\n",
        "  else:\n",
        "    break"
      ]
    },
    {
      "cell_type": "code",
      "execution_count": 107,
      "metadata": {
        "colab": {
          "base_uri": "https://localhost:8080/"
        },
        "id": "7CMnvxN_4a1Q",
        "outputId": "6a50cdb6-8572-49b2-a467-fb334c0d3a49"
      },
      "outputs": [
        {
          "name": "stdout",
          "output_type": "stream",
          "text": [
            "{'Nama': 'Hotel Gran Mahakam', 'data_id': '0x2e69f16ca2958d9b:0x9999a91c8ec9630e', 'total_reviews': 4517}\n",
            "{'Nama': 'Veranda Hotel at Pakubuwono', 'data_id': '0x2e69f115ca81b371:0x6b5c67954e308ea2', 'total_reviews': 6060}\n",
            "{'Nama': 'Hotel Monopoli', 'data_id': '0x2e69f178e43d6311:0x623693b04941b93c', 'total_reviews': 1505}\n",
            "{'Nama': 'The Dharmawangsa Jakarta', 'data_id': '0x2e69f170f3863d05:0x16307e5537e5100d', 'total_reviews': 4535}\n",
            "{'Nama': 'Mercure Jakarta Gatot Subroto', 'data_id': '0x2e69f3bce7a4bdf1:0xae2c6b053bbf55c2', 'total_reviews': 3575}\n",
            "{'Nama': 'grandkemang Jakarta', 'data_id': '0x2e698d26084302a9:0x834cbb87d50a4c3a', 'total_reviews': 5465}\n",
            "{'Nama': 'Park Regis Arion', 'data_id': '0x2e69f17faae484e9:0x50eba6f655c29290', 'total_reviews': 2360}\n"
          ]
        }
      ],
      "source": [
        "for LR in local_results:\n",
        "  print(LR)"
      ]
    },
    {
      "cell_type": "markdown",
      "metadata": {
        "id": "yczxDXC59bmC"
      },
      "source": [
        "*   <h4><b>Scrapping Reviews</b></h4>\n",
        "Mengambil 100 data dari masing-masing objek (hotel) sesuai dengan jumlah index yang diinginkan"
      ]
    },
    {
      "cell_type": "code",
      "execution_count": 108,
      "metadata": {
        "colab": {
          "base_uri": "https://localhost:8080/"
        },
        "id": "_YI4IC7W8nVI",
        "outputId": "3735a414-9861-45da-b0c3-d7ba09265961"
      },
      "outputs": [
        {
          "name": "stdout",
          "output_type": "stream",
          "text": [
            "https://serpapi.com/search\n",
            "https://serpapi.com/search\n",
            "https://serpapi.com/search\n",
            "https://serpapi.com/search\n",
            "https://serpapi.com/search\n",
            "https://serpapi.com/search\n",
            "https://serpapi.com/search\n",
            "https://serpapi.com/search\n",
            "https://serpapi.com/search\n",
            "https://serpapi.com/search\n",
            "https://serpapi.com/search\n",
            "https://serpapi.com/search\n",
            "https://serpapi.com/search\n",
            "https://serpapi.com/search\n",
            "https://serpapi.com/search\n",
            "https://serpapi.com/search\n",
            "https://serpapi.com/search\n",
            "https://serpapi.com/search\n",
            "https://serpapi.com/search\n",
            "https://serpapi.com/search\n",
            "https://serpapi.com/search\n",
            "https://serpapi.com/search\n",
            "https://serpapi.com/search\n",
            "https://serpapi.com/search\n",
            "https://serpapi.com/search\n",
            "https://serpapi.com/search\n",
            "https://serpapi.com/search\n",
            "https://serpapi.com/search\n"
          ]
        }
      ],
      "source": [
        "data = {'Hotel_name':[],\n",
        "        'name':[],\n",
        "        'rating':[],\n",
        "        'review':[]}\n",
        "\n",
        "for LR in local_results:\n",
        "  \n",
        "  params = {\n",
        "    \"engine\": \"google_maps_reviews\",\n",
        "    \"data_id\": \"\",\n",
        "    \"api_key\": \"08851987a422f702d52c8ac291e6a65769587f7b7fff05544fa7344c8d289dfe\"\n",
        "  }\n",
        "  \n",
        "  params[\"data_id\"] = LR['data_id']\n",
        "\n",
        "  search = GoogleSearch(params)\n",
        "\n",
        "  lIdx = 0\n",
        "  lSum = 30\n",
        "\n",
        "  while lIdx <= lSum:\n",
        "    results = search.get_dict()\n",
        "\n",
        "    for Result in results[\"reviews\"]:\n",
        "      lIdx += 1\n",
        "\n",
        "      if lIdx <= lSum:\n",
        "        data['Hotel_name'].append(LR['Nama']);\n",
        "        data['name'].append(Result[\"user\"][\"name\"]);\n",
        "        data['rating'].append(Result[\"rating\"]);\n",
        "        data['review'].append(Result[\"snippet\"]);\n",
        "\n",
        "    if \"next\" in results.get(\"serpapi_pagination\", {}):\n",
        "      search.params_dict.update(dict(parse_qsl(urlsplit(results.get(\"serpapi_pagination\").get(\"next\")).query)))\n",
        "\n",
        "    else:\n",
        "      break\n",
        "    \n",
        "review_original = data['review']"
      ]
    },
    {
      "cell_type": "markdown",
      "metadata": {
        "id": "DIfAJ37NAbmA"
      },
      "source": [
        "*   <h4><b>Export Data Scrapping</b></h4>"
      ]
    },
    {
      "cell_type": "code",
      "execution_count": 141,
      "metadata": {
        "id": "TsQ8NE8bHz_T"
      },
      "outputs": [],
      "source": [
        "import pandas as pd\n",
        "dfScrap = pd.DataFrame(data)\n",
        "dfScrap.to_csv('File CSV/reviewHotelJakarta.csv', index = False)"
      ]
    },
    {
      "cell_type": "code",
      "execution_count": 110,
      "metadata": {
        "colab": {
          "base_uri": "https://localhost:8080/",
          "height": 424
        },
        "id": "n4aOrGAUIAED",
        "outputId": "01f2fec3-2db3-40fe-eaff-448f251a2d7d"
      },
      "outputs": [
        {
          "data": {
            "text/html": [
              "\n",
              "  <div id=\"df-2976daf5-51c7-4d5b-8bb6-efa8e895354d\">\n",
              "    <div class=\"colab-df-container\">\n",
              "      <div>\n",
              "<style scoped>\n",
              "    .dataframe tbody tr th:only-of-type {\n",
              "        vertical-align: middle;\n",
              "    }\n",
              "\n",
              "    .dataframe tbody tr th {\n",
              "        vertical-align: top;\n",
              "    }\n",
              "\n",
              "    .dataframe thead th {\n",
              "        text-align: right;\n",
              "    }\n",
              "</style>\n",
              "<table border=\"1\" class=\"dataframe\">\n",
              "  <thead>\n",
              "    <tr style=\"text-align: right;\">\n",
              "      <th></th>\n",
              "      <th>Hotel_name</th>\n",
              "      <th>name</th>\n",
              "      <th>rating</th>\n",
              "      <th>review</th>\n",
              "    </tr>\n",
              "  </thead>\n",
              "  <tbody>\n",
              "    <tr>\n",
              "      <th>0</th>\n",
              "      <td>Hotel Gran Mahakam</td>\n",
              "      <td>Robert Gow</td>\n",
              "      <td>4.0</td>\n",
              "      <td>Old boutique hotel but very well maintained. R...</td>\n",
              "    </tr>\n",
              "    <tr>\n",
              "      <th>1</th>\n",
              "      <td>Hotel Gran Mahakam</td>\n",
              "      <td>Oggi Gunadi</td>\n",
              "      <td>5.0</td>\n",
              "      <td>Outstanding service from the first sight. Firs...</td>\n",
              "    </tr>\n",
              "    <tr>\n",
              "      <th>2</th>\n",
              "      <td>Hotel Gran Mahakam</td>\n",
              "      <td>Fifi Muliadi</td>\n",
              "      <td>5.0</td>\n",
              "      <td>When I was working, I frequently visited the h...</td>\n",
              "    </tr>\n",
              "    <tr>\n",
              "      <th>3</th>\n",
              "      <td>Hotel Gran Mahakam</td>\n",
              "      <td>Renatha P</td>\n",
              "      <td>5.0</td>\n",
              "      <td>Having all you can eat luncheon in private roo...</td>\n",
              "    </tr>\n",
              "    <tr>\n",
              "      <th>4</th>\n",
              "      <td>Hotel Gran Mahakam</td>\n",
              "      <td>Swathi V</td>\n",
              "      <td>5.0</td>\n",
              "      <td>My stay was a combination of quarantine and no...</td>\n",
              "    </tr>\n",
              "    <tr>\n",
              "      <th>...</th>\n",
              "      <td>...</td>\n",
              "      <td>...</td>\n",
              "      <td>...</td>\n",
              "      <td>...</td>\n",
              "    </tr>\n",
              "    <tr>\n",
              "      <th>205</th>\n",
              "      <td>Park Regis Arion</td>\n",
              "      <td>Dela</td>\n",
              "      <td>3.0</td>\n",
              "      <td>The hotel is noticable from the street. It is ...</td>\n",
              "    </tr>\n",
              "    <tr>\n",
              "      <th>206</th>\n",
              "      <td>Park Regis Arion</td>\n",
              "      <td>Ivan Yudhi</td>\n",
              "      <td>3.0</td>\n",
              "      <td>I must say I'm a bit disappointed about this h...</td>\n",
              "    </tr>\n",
              "    <tr>\n",
              "      <th>207</th>\n",
              "      <td>Park Regis Arion</td>\n",
              "      <td>adi purnomo</td>\n",
              "      <td>4.0</td>\n",
              "      <td>A good 3 stars hotel. The food is ok. Eventhou...</td>\n",
              "    </tr>\n",
              "    <tr>\n",
              "      <th>208</th>\n",
              "      <td>Park Regis Arion</td>\n",
              "      <td>Audi Kasbara</td>\n",
              "      <td>4.0</td>\n",
              "      <td>It's an upscale medium-sized hotel at the hear...</td>\n",
              "    </tr>\n",
              "    <tr>\n",
              "      <th>209</th>\n",
              "      <td>Park Regis Arion</td>\n",
              "      <td>Satya Rahadhian</td>\n",
              "      <td>5.0</td>\n",
              "      <td>This used to be Swiss Bell Arion Hotel. Very s...</td>\n",
              "    </tr>\n",
              "  </tbody>\n",
              "</table>\n",
              "<p>210 rows × 4 columns</p>\n",
              "</div>\n",
              "      <button class=\"colab-df-convert\" onclick=\"convertToInteractive('df-2976daf5-51c7-4d5b-8bb6-efa8e895354d')\"\n",
              "              title=\"Convert this dataframe to an interactive table.\"\n",
              "              style=\"display:none;\">\n",
              "        \n",
              "  <svg xmlns=\"http://www.w3.org/2000/svg\" height=\"24px\"viewBox=\"0 0 24 24\"\n",
              "       width=\"24px\">\n",
              "    <path d=\"M0 0h24v24H0V0z\" fill=\"none\"/>\n",
              "    <path d=\"M18.56 5.44l.94 2.06.94-2.06 2.06-.94-2.06-.94-.94-2.06-.94 2.06-2.06.94zm-11 1L8.5 8.5l.94-2.06 2.06-.94-2.06-.94L8.5 2.5l-.94 2.06-2.06.94zm10 10l.94 2.06.94-2.06 2.06-.94-2.06-.94-.94-2.06-.94 2.06-2.06.94z\"/><path d=\"M17.41 7.96l-1.37-1.37c-.4-.4-.92-.59-1.43-.59-.52 0-1.04.2-1.43.59L10.3 9.45l-7.72 7.72c-.78.78-.78 2.05 0 2.83L4 21.41c.39.39.9.59 1.41.59.51 0 1.02-.2 1.41-.59l7.78-7.78 2.81-2.81c.8-.78.8-2.07 0-2.86zM5.41 20L4 18.59l7.72-7.72 1.47 1.35L5.41 20z\"/>\n",
              "  </svg>\n",
              "      </button>\n",
              "      \n",
              "  <style>\n",
              "    .colab-df-container {\n",
              "      display:flex;\n",
              "      flex-wrap:wrap;\n",
              "      gap: 12px;\n",
              "    }\n",
              "\n",
              "    .colab-df-convert {\n",
              "      background-color: #E8F0FE;\n",
              "      border: none;\n",
              "      border-radius: 50%;\n",
              "      cursor: pointer;\n",
              "      display: none;\n",
              "      fill: #1967D2;\n",
              "      height: 32px;\n",
              "      padding: 0 0 0 0;\n",
              "      width: 32px;\n",
              "    }\n",
              "\n",
              "    .colab-df-convert:hover {\n",
              "      background-color: #E2EBFA;\n",
              "      box-shadow: 0px 1px 2px rgba(60, 64, 67, 0.3), 0px 1px 3px 1px rgba(60, 64, 67, 0.15);\n",
              "      fill: #174EA6;\n",
              "    }\n",
              "\n",
              "    [theme=dark] .colab-df-convert {\n",
              "      background-color: #3B4455;\n",
              "      fill: #D2E3FC;\n",
              "    }\n",
              "\n",
              "    [theme=dark] .colab-df-convert:hover {\n",
              "      background-color: #434B5C;\n",
              "      box-shadow: 0px 1px 3px 1px rgba(0, 0, 0, 0.15);\n",
              "      filter: drop-shadow(0px 1px 2px rgba(0, 0, 0, 0.3));\n",
              "      fill: #FFFFFF;\n",
              "    }\n",
              "  </style>\n",
              "\n",
              "      <script>\n",
              "        const buttonEl =\n",
              "          document.querySelector('#df-2976daf5-51c7-4d5b-8bb6-efa8e895354d button.colab-df-convert');\n",
              "        buttonEl.style.display =\n",
              "          google.colab.kernel.accessAllowed ? 'block' : 'none';\n",
              "\n",
              "        async function convertToInteractive(key) {\n",
              "          const element = document.querySelector('#df-2976daf5-51c7-4d5b-8bb6-efa8e895354d');\n",
              "          const dataTable =\n",
              "            await google.colab.kernel.invokeFunction('convertToInteractive',\n",
              "                                                     [key], {});\n",
              "          if (!dataTable) return;\n",
              "\n",
              "          const docLinkHtml = 'Like what you see? Visit the ' +\n",
              "            '<a target=\"_blank\" href=https://colab.research.google.com/notebooks/data_table.ipynb>data table notebook</a>'\n",
              "            + ' to learn more about interactive tables.';\n",
              "          element.innerHTML = '';\n",
              "          dataTable['output_type'] = 'display_data';\n",
              "          await google.colab.output.renderOutput(dataTable, element);\n",
              "          const docLink = document.createElement('div');\n",
              "          docLink.innerHTML = docLinkHtml;\n",
              "          element.appendChild(docLink);\n",
              "        }\n",
              "      </script>\n",
              "    </div>\n",
              "  </div>\n",
              "  "
            ],
            "text/plain": [
              "             Hotel_name             name  rating  \\\n",
              "0    Hotel Gran Mahakam       Robert Gow     4.0   \n",
              "1    Hotel Gran Mahakam      Oggi Gunadi     5.0   \n",
              "2    Hotel Gran Mahakam     Fifi Muliadi     5.0   \n",
              "3    Hotel Gran Mahakam        Renatha P     5.0   \n",
              "4    Hotel Gran Mahakam         Swathi V     5.0   \n",
              "..                  ...              ...     ...   \n",
              "205    Park Regis Arion             Dela     3.0   \n",
              "206    Park Regis Arion       Ivan Yudhi     3.0   \n",
              "207    Park Regis Arion      adi purnomo     4.0   \n",
              "208    Park Regis Arion     Audi Kasbara     4.0   \n",
              "209    Park Regis Arion  Satya Rahadhian     5.0   \n",
              "\n",
              "                                                review  \n",
              "0    Old boutique hotel but very well maintained. R...  \n",
              "1    Outstanding service from the first sight. Firs...  \n",
              "2    When I was working, I frequently visited the h...  \n",
              "3    Having all you can eat luncheon in private roo...  \n",
              "4    My stay was a combination of quarantine and no...  \n",
              "..                                                 ...  \n",
              "205  The hotel is noticable from the street. It is ...  \n",
              "206  I must say I'm a bit disappointed about this h...  \n",
              "207  A good 3 stars hotel. The food is ok. Eventhou...  \n",
              "208  It's an upscale medium-sized hotel at the hear...  \n",
              "209  This used to be Swiss Bell Arion Hotel. Very s...  \n",
              "\n",
              "[210 rows x 4 columns]"
            ]
          },
          "execution_count": 110,
          "metadata": {},
          "output_type": "execute_result"
        }
      ],
      "source": [
        "dfScrap"
      ]
    }
  ],
  "metadata": {
    "colab": {
      "collapsed_sections": [],
      "provenance": []
    },
    "kernelspec": {
      "display_name": "Python 3.10.5 64-bit",
      "language": "python",
      "name": "python3"
    },
    "language_info": {
      "name": "python",
      "version": "3.10.5"
    },
    "vscode": {
      "interpreter": {
        "hash": "b6fc3a16ecd2965cfae832a46d720a11ad0636ce06d12ed3be63cd7c163579c1"
      }
    }
  },
  "nbformat": 4,
  "nbformat_minor": 0
}
